{
 "cells": [
  {
   "cell_type": "code",
   "execution_count": 11,
   "metadata": {},
   "outputs": [
    {
     "name": "stdout",
     "output_type": "stream",
     "text": [
      "[u'CSS', u'Python', u'Python', u'Python', u'HTML']\n"
     ]
    }
   ],
   "source": [
    "# Using APIs\n",
    "\n",
    "from __future__ import division\n",
    "from collections import Counter\n",
    "import math, random, csv, json\n",
    "\n",
    "from bs4 import BeautifulSoup\n",
    "import requests\n",
    "from dateutil.parser import parse\n",
    "\n",
    "endpoint = \"https://api.github.com/users/cavan/repos\"\n",
    "\n",
    "repos = json.loads(requests.get(endpoint).text)\n",
    "\n",
    "dates = [parse(repo[\"created_at\"]) for repo in repos]\n",
    "month_counts = Counter(date.month for date in dates)\n",
    "weekday_counts = Counter(date.weekday() for date in dates)\n",
    "\n",
    "last_5_repositories = sorted(repos, key=lambda r: r[\"created_at\"], reverse=True)[:5]\n",
    "\n",
    "last_5_languages = [repo[\"language\"] for repo in last_5_repositories]\n",
    "\n",
    "print(last_5_languages)\n"
   ]
  },
  {
   "cell_type": "code",
   "execution_count": null,
   "metadata": {},
   "outputs": [],
   "source": []
  },
  {
   "cell_type": "code",
   "execution_count": null,
   "metadata": {},
   "outputs": [],
   "source": []
  }
 ],
 "metadata": {
  "kernelspec": {
   "display_name": "Python 2",
   "language": "python",
   "name": "python2"
  },
  "language_info": {
   "codemirror_mode": {
    "name": "ipython",
    "version": 2
   },
   "file_extension": ".py",
   "mimetype": "text/x-python",
   "name": "python",
   "nbconvert_exporter": "python",
   "pygments_lexer": "ipython2",
   "version": "2.7.16"
  }
 },
 "nbformat": 4,
 "nbformat_minor": 2
}
