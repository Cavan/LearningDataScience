{
 "cells": [
  {
   "cell_type": "code",
   "execution_count": 11,
   "metadata": {},
   "outputs": [
    {
     "name": "stdout",
     "output_type": "stream",
     "text": [
      "('andy0liveira', ':', '@vhugokp Na d\\xc3\\xbavida tu pensa \\nWhat would homer simpson do?')\n",
      "\n",
      "('scagnetticon', ':', 'RT @edsbs: People sleep on Homer Simpson\\xe2\\x80\\x99s ability to throw a punch, dude pretty consistently one-times people throughout the series')\n",
      "\n",
      "('GeauxtohellLSU', ':', 'RT @edsbs: People sleep on Homer Simpson\\xe2\\x80\\x99s ability to throw a punch, dude pretty consistently one-times people throughout the series')\n",
      "\n",
      "('ivyautumnn', ':', '@PyrrhusKissed homer simpson w goggles on')\n",
      "\n",
      "('DJomaicol', ':', '@KeybladeRap Varias\\nSonia vs Mario 1.\\nHomer simpson \\nGoku vs Maruto \\nEntre otros')\n",
      "\n",
      "('maluh_morettii', ':', '@izabellacobra Homer Simpson mais conhecido como psic\\xc3\\xb3logo de crise do am\\xc3\\xb4 n\\xc3\\xa9')\n",
      "\n",
      "('truenorthpoint', ':', \"RT @BicycleRob: @CahnLawNY @tribelaw @RepAdamSchiff @RepJerryNadler Mueller's legalese is very diplomatic and subtle. Meanwhile Trump speak\\xe2\\x80\\xa6\")\n",
      "\n",
      "('blakeambroselax', ':', 'RT @edsbs: People sleep on Homer Simpson\\xe2\\x80\\x99s ability to throw a punch, dude pretty consistently one-times people throughout the series')\n",
      "\n",
      "('OnslaughtIsCool', ':', 'homer simpson after he got hit by bart be like: https://t.co/FnSMMWuNZw')\n",
      "\n",
      "('Victor_IBZ69', ':', 'RT @Victor_IBZ69: @Julius_JGK tienes el mismo retraso mental que Homer simpson pero sabes que,que homer hace gracia pero lo tuyo es lamenta\\xe2\\x80\\xa6')\n",
      "\n",
      "('Victor_IBZ69', ':', '@Julius_JGK tienes el mismo retraso mental que Homer simpson pero sabes que,que homer hace gracia pero lo tuyo es l\\xe2\\x80\\xa6 https://t.co/y2zJ2PkhD7')\n",
      "\n",
      "('TedInPittsburgh', ':', 'James Dolan took Homer Simpson\\xe2\\x80\\x99s  \\xe2\\x80\\x9cYou Tried Your Best and You Failed Miserably. The Lesson Is Never Try.\\xe2\\x80\\x9d quote to\\xe2\\x80\\xa6 https://t.co/8na4gXjcNU')\n",
      "\n",
      "('DylanHarris1124', ':', 'RT @edsbs: People sleep on Homer Simpson\\xe2\\x80\\x99s ability to throw a punch, dude pretty consistently one-times people throughout the series')\n",
      "\n",
      "('femininebones', ':', '- I didnt have any materials at all i was not prepared in any way \\n- kent brockman turned into homer simpson')\n",
      "\n",
      "('JMoney55Wittmer', ':', 'RT @edsbs: People sleep on Homer Simpson\\xe2\\x80\\x99s ability to throw a punch, dude pretty consistently one-times people throughout the series')\n",
      "\n"
     ]
    }
   ],
   "source": [
    "from twython import Twython\n",
    "\n",
    "import json\n",
    "\n",
    "with open('twitterCredentials.json', \"r\") as f:\n",
    "    obj = json.load(f)\n",
    "   \n",
    "    \n",
    "for data in obj['twitterCreds']:\n",
    "    CONSUMER_KEY = data['apiKey']\n",
    "    CONSUMER_SECRET = data['apiSecretKey']\n",
    "\n",
    "    \n",
    "twitter = Twython(CONSUMER_KEY, CONSUMER_SECRET)\n",
    "\n",
    "# search for tweets containing a chosen phrase\n",
    "for status in twitter.search(q='\"Homer Simpson\"')[\"statuses\"]:\n",
    "    user = status[\"user\"][\"screen_name\"].encode('utf-8')\n",
    "    text = status[\"text\"].encode('utf-8')\n",
    "    print(user, \":\", text)\n",
    "    print"
   ]
  },
  {
   "cell_type": "code",
   "execution_count": null,
   "metadata": {},
   "outputs": [],
   "source": []
  }
 ],
 "metadata": {
  "kernelspec": {
   "display_name": "Python 2",
   "language": "python",
   "name": "python2"
  },
  "language_info": {
   "codemirror_mode": {
    "name": "ipython",
    "version": 2
   },
   "file_extension": ".py",
   "mimetype": "text/x-python",
   "name": "python",
   "nbconvert_exporter": "python",
   "pygments_lexer": "ipython2",
   "version": "2.7.16"
  }
 },
 "nbformat": 4,
 "nbformat_minor": 2
}
