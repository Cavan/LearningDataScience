{
 "cells": [
  {
   "cell_type": "code",
   "execution_count": 10,
   "metadata": {},
   "outputs": [
    {
     "name": "stdout",
     "output_type": "stream",
     "text": [
      "('FineWineOrNot', ':', 'RT @Manny_Funes: I am not the kind of man who easily loose his cool or disrespect others but Donald Trump makes that very difficult.\\n\\nHis l\\xe2\\x80\\xa6')\n",
      "\n",
      "('girlzinger', ':', 'RT @ddale8: Trump told Fox he has removed 7,000 troops from Afghanistan (no), that the US spent $80 million on an Afghanistan gas station (\\xe2\\x80\\xa6')\n",
      "\n",
      "('w888666', ':', \"RT @MrFilmkritik: Jon Stewart and Alexandria Ocasio-Cortez attended the funeral of 9/11 first responder Luis Alvarez.\\n\\nYou know who wasn't\\xe2\\x80\\xa6\")\n",
      "\n",
      "('Dsmith1794', ':', '@StondieXD @davidsirota @BernieSanders Blow the whistle, full on. To the press, to donors, to reporters, to the pub\\xe2\\x80\\xa6 https://t.co/bAPbdchjMi')\n",
      "\n",
      "('from_ma', ':', 'RT @WillResistAdmin: Trump Imposes 30% Tariffs on Solar Panels | Time\\n\\nWTH??????????  https://t.co/QbtNEBjXre')\n",
      "\n",
      "('NiceAccordion', ':', 'RT @CREWcrew: Donald Trump\\xe2\\x80\\x99s 4th Of July Parade Will Violate Hatch Act If He Turns It Into A Rally\\nhttps://t.co/83oweOodkl')\n",
      "\n",
      "('RandyNeville7', ':', 'RT @MSNBC: President Trump is downplaying the cost of his Fourth of July celebration as \"very little compared to what it is worth\" amid cri\\xe2\\x80\\xa6')\n",
      "\n",
      "('toast94266754', ':', 'RT @brianschatz: Just to be clear SCOTUS called BS on the citizenship question and DOJ said \\xe2\\x80\\x9cyeah you\\xe2\\x80\\x99ve got us.\\xe2\\x80\\x9d And then Stephen Miller a\\xe2\\x80\\xa6')\n",
      "\n",
      "('MikeHimsworth', ':', \"@brucehallsports You believe Donald Trump's Mom entered the U.S. illegally?\")\n",
      "\n",
      "('politiFRESH', ':', 'RT @mattmfm: Donald Trump corrupted the 4th of July. https://t.co/xgyXNqMt33')\n",
      "\n",
      "('JimiBrady', ':', 'RT @mattmfm: Donald Trump corrupted the 4th of July. https://t.co/xgyXNqMt33')\n",
      "\n",
      "('CrustyPimp', ':', \"RT @1_Alamo_1: @TrueFactsStated @DonaldJTrumpJr @realDonaldTrump I can't wait till Donald Trump gets re elected all you liberal democrats a\\xe2\\x80\\xa6\")\n",
      "\n",
      "('iblamesummers', ':', 'I honestly think Ted Cruz is way dumber than Donald Trump. Like way dumber. Not even a contest.')\n",
      "\n"
     ]
    }
   ],
   "source": [
    "from twython import Twython\n",
    "\n",
    "import json\n",
    "\n",
    "with open('twitterCredentials.json', \"r\") as f:\n",
    "    obj = json.load(f)\n",
    "   \n",
    "    \n",
    "for data in obj['twitterCreds']:\n",
    "    CONSUMER_KEY = data['apiKey']\n",
    "    CONSUMER_SECRET = data['apiSecretKey']\n",
    "\n",
    "    \n",
    "twitter = Twython(CONSUMER_KEY, CONSUMER_SECRET)\n",
    "\n",
    "# search for tweets containing the phrase \"data science\"\n",
    "for status in twitter.search(q='\"Donald Trump\"')[\"statuses\"]:\n",
    "    user = status[\"user\"][\"screen_name\"].encode('utf-8')\n",
    "    text = status[\"text\"].encode('utf-8')\n",
    "    print(user, \":\", text)\n",
    "    print"
   ]
  },
  {
   "cell_type": "code",
   "execution_count": null,
   "metadata": {},
   "outputs": [],
   "source": []
  }
 ],
 "metadata": {
  "kernelspec": {
   "display_name": "Python 2",
   "language": "python",
   "name": "python2"
  },
  "language_info": {
   "codemirror_mode": {
    "name": "ipython",
    "version": 2
   },
   "file_extension": ".py",
   "mimetype": "text/x-python",
   "name": "python",
   "nbconvert_exporter": "python",
   "pygments_lexer": "ipython2",
   "version": "2.7.16"
  }
 },
 "nbformat": 4,
 "nbformat_minor": 2
}
